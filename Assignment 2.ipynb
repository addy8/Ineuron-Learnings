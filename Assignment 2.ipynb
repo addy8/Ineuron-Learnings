{
 "cells": [
  {
   "cell_type": "markdown",
   "metadata": {},
   "source": [
    "Q1. Generate the pattern"
   ]
  },
  {
   "cell_type": "code",
   "execution_count": 1,
   "metadata": {},
   "outputs": [
    {
     "name": "stdout",
     "output_type": "stream",
     "text": [
      "*\n",
      "**\n",
      "***\n",
      "****\n",
      "*****\n",
      "****\n",
      "***\n",
      "**\n",
      "*\n"
     ]
    }
   ],
   "source": [
    "def star(a):\n",
    "    for i in range(0,a,1):\n",
    "        print('*',end ='')\n",
    "    print('',end='\\n')\n",
    "\n",
    "    \n",
    "#maxiter is the mean point for the pattern\n",
    "maxiter = 5\n",
    "for i in range(1,maxiter + 1,1):\n",
    "    if i != maxiter:\n",
    "        star(i)\n",
    "    elif i == maxiter:\n",
    "        for j in range (maxiter,0,-1):\n",
    "            star(j)    "
   ]
  },
  {
   "cell_type": "markdown",
   "metadata": {},
   "source": [
    "Q2. Write a program to reverse a word after accepting the input from the user ."
   ]
  },
  {
   "cell_type": "code",
   "execution_count": 1,
   "metadata": {},
   "outputs": [
    {
     "name": "stdout",
     "output_type": "stream",
     "text": [
      "Please provide the name to be reversed INeuron Intelligence\n",
      "ecnegilletnI norueNI"
     ]
    }
   ],
   "source": [
    "a = list(input('Please provide the name to be reversed '))\n",
    "for i in a[::-1]:\n",
    "    print (i, end = '')"
   ]
  }
 ],
 "metadata": {
  "kernelspec": {
   "display_name": "Python 3",
   "language": "python",
   "name": "python3"
  },
  "language_info": {
   "codemirror_mode": {
    "name": "ipython",
    "version": 3
   },
   "file_extension": ".py",
   "mimetype": "text/x-python",
   "name": "python",
   "nbconvert_exporter": "python",
   "pygments_lexer": "ipython3",
   "version": "3.8.3"
  }
 },
 "nbformat": 4,
 "nbformat_minor": 4
}
